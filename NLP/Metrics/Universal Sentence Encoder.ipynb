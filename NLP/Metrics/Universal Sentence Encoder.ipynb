{
 "cells": [
  {
   "cell_type": "code",
   "execution_count": 2,
   "metadata": {},
   "outputs": [],
   "source": [
    "import numpy as np\n",
    "import tensorflow as tf\n",
    "#import tensorflow_hub as hub\n",
    "import nltk\n",
    "import re\n",
    "import pandas as pd"
   ]
  },
  {
   "cell_type": "code",
   "execution_count": 5,
   "metadata": {},
   "outputs": [],
   "source": [
    "df =  pd.read_csv(\"all_sents.csv\", encoding=\"utf-8\", names=[\"Number\", \"Sentence\"])"
   ]
  },
  {
   "cell_type": "code",
   "execution_count": 9,
   "metadata": {},
   "outputs": [
    {
     "data": {
      "text/plain": [
       "0          valdez harlan jr february har is a year old po...\n",
       "1          about a week ago he slipped on the driveway at...\n",
       "2          he was seen at tricity hospital and was told h...\n",
       "3          he was placed in an air splint and advised to ...\n",
       "4          past medical history is notable for no ankle i...\n",
       "                                 ...                        \n",
       "3375175    methods this was a randomized trial with waitl...\n",
       "3375176    methods after baseline evaluation in all resid...\n",
       "3375177    methods after crossover the waitlist group rec...\n",
       "3375178    methods performance was assessed by comparison...\n",
       "3375179    results no improvement was detected as a funct...\n",
       "Name: Sentence, Length: 3375180, dtype: object"
      ]
     },
     "execution_count": 9,
     "metadata": {},
     "output_type": "execute_result"
    }
   ],
   "source": [
    "df"
   ]
  },
  {
   "cell_type": "code",
   "execution_count": null,
   "metadata": {},
   "outputs": [],
   "source": [
    "from allennlp.modules.token_embedders.bidirectional_language_model_token_embedder import BidirectionalLanguageModelTokenEmbedder\n",
    "from allennlp.data.token_indexers.elmo_indexer import ELMoTokenCharactersIndexer\n",
    "from allennlp.data.tokenizers.token import Token\n",
    "import torch\n",
    "\n",
    "lm_model_file = \"model.tar.gz\"\n",
    "\n",
    "sentence = \"It is raining in Seattle .\"\n",
    "tokens = [Token(word) for word in sentence.split()]\n",
    "\n",
    "lm_embedder = BidirectionalLanguageModelTokenEmbedder(\n",
    "    archive_file=lm_model_file,\n",
    "    dropout=0.2,\n",
    "    bos_eos_tokens=[\"<S>\", \"</S>\"],\n",
    "    remove_bos_eos=True,\n",
    "    requires_grad=False\n",
    ")\n",
    "\n",
    "indexer = ELMoTokenCharactersIndexer()\n",
    "vocab = lm_embedder._lm.vocab\n",
    "character_indices = indexer.tokens_to_indices(tokens, vocab, \"elmo\")[\"elmo\"]\n",
    "\n",
    "# Batch of size 1\n",
    "indices_tensor = torch.LongTensor([character_indices])\n",
    "\n",
    "# Embed and extract the single element from the batch.\n",
    "embeddings = lm_embedder(indices_tensor)[0]\n",
    "\n",
    "for word_embedding in embeddings:\n",
    "    print(word_embedding)"
   ]
  }
 ],
 "metadata": {
  "kernelspec": {
   "display_name": "Python 3",
   "language": "python",
   "name": "python3"
  },
  "language_info": {
   "codemirror_mode": {
    "name": "ipython",
    "version": 3
   },
   "file_extension": ".py",
   "mimetype": "text/x-python",
   "name": "python",
   "nbconvert_exporter": "python",
   "pygments_lexer": "ipython3",
   "version": "3.7.4"
  }
 },
 "nbformat": 4,
 "nbformat_minor": 2
}
